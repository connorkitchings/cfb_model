{
 "cells": [
  {
   "cell_type": "markdown",
   "metadata": {},
   "source": [
    "# Full Observability Demo: Logging, MLflow & OpenLineage\n",
    "\n",
    "This notebook demonstrates the integrated use of structured logging (`DataLogger`), experiment tracking (`MLflow`), and data lineage (`OpenLineage`)."
   ]
  },
  {
   "cell_type": "code",
   "execution_count": null,
   "metadata": {},
   "outputs": [],
   "source": [
    "import sys\n",
    "import os\n",
    "from uuid import uuid4\n",
    "\n",
    "# Add the src directory to the Python path\n",
    "sys.path.append(os.path.abspath(os.path.join('..', 'src')))\n",
    "\n",
    "# Import our custom utilities\n",
    "from utils.logging import DataLogger\n",
    "from utils.mlflow_tracking import get_or_create_experiment\n",
    "from utils.lineage_tracking import get_lineage_client, emit_lineage_event\n",
    "\n",
    "# Import ML/OL libraries\n",
    "import mlflow\n",
    "from openlineage.client.run import RunState\n",
    "from openlineage.client.dataset import Dataset, Source\n",
    "from openlineage.client.facet import DataSourceDatasetFacet"
   ]
  },
  {
   "cell_type": "code",
   "execution_count": null,
   "metadata": {},
   "outputs": [],
   "source": [
    "# 1. Initialize Services\n",
    "logger = DataLogger(name='observability_demo', log_file='../logs/demo.log')\n",
    "logger.log_event('NOTEBOOK_START', {'notebook_name': '02_full_observability_demo.ipynb'})\n",
    "\n",
    "lineage_client = get_lineage_client()\n",
    "logger.log_event('OPENLINEAGE_CLIENT_CREATED', {})"
   ]
  },
  {
   "cell_type": "code",
   "execution_count": null,
   "metadata": {},
   "outputs": [],
   "source": [
    "# 2. Define Job and Experiment Details\n",
    "experiment_name = \"Full_Observability_Demo\"\n",
    "job_name = \"process_raw_data\"\n",
    "run_uuid = str(uuid4()) # Unique ID for both MLflow run and Lineage run\n",
    "\n",
    "# 3. Define Lineage Datasets\n",
    "input_dataset = Dataset(\n        source=Source(producer_url=\"file://\"),\n        name=\"/data/raw/input.csv\",\n        facets={\"dataSource\": DataSourceDatasetFacet(name=\"raw_data\", uri=\"file://data/raw\")}\n    )\n",
    "output_dataset = Dataset(\n        source=Source(producer_url=\"file://\"),\n        name=\"/data/processed/output.csv\",\n        facets={\"dataSource\": DataSourceDatasetFacet(name=\"processed_data\", uri=\"file://data/processed\")}\n    )"
   ]
  },
  {
   "cell_type": "code",
   "execution_count": null,
   "metadata": {},
   "outputs": [],
   "source": [
    "# 4. Execute the Full Workflow\n",
    "experiment_id = get_or_create_experiment(experiment_name)\n",
    "\n",
    "try:\n",
    "    # Emit lineage START event\n",
    "    emit_lineage_event(lineage_client, job_name, RunState.START, run_uuid, input_datasets=[input_dataset])\n",
    "    \n",
    "    with mlflow.start_run(experiment_id=experiment_id, run_name=f\"{job_name}_{run_uuid[:8]}\") as run:\n",
    "        logger.log_event('MLFLOW_RUN_START', {'run_id': run.info.run_id, 'lineage_run_id': run_uuid})\n",
    "        \n",
    "        # --- Your data processing and model training logic would go here ---\n",
    "        print('Processing data and training model...')\n",
    "        mlflow.log_param(\"dataset_version\", \"v1.0\")\n",
    "        mlflow.log_metric(\"final_accuracy\", 0.99)\n",
    "        # ---\n",
    "        \n",
    "    # Emit lineage COMPLETE event\n",
    "    emit_lineage_event(lineage_client, job_name, RunState.COMPLETE, run_uuid, output_datasets=[output_dataset])\n",
    "    logger.log_event('WORKFLOW_SUCCESS', {'run_id': run.info.run_id})\n",
    "\n",
    "except Exception as e:\n",
    "    # Emit lineage FAIL event on error\n",
    "    emit_lineage_event(lineage_client, job_name, RunState.FAIL, run_uuid, output_datasets=[])\n",
    "    logger.log_error('WORKFLOW_FAILED', str(e), {'run_id': run.info.run_id})\n",
    "    raise e"
   ]
  },
  {
   "cell_type": "markdown",
   "metadata": {},
   "source": [
    "### Viewing the Results\n",
    "\n",
    "* **MLflow**: Run `uv run mlflow ui` in your terminal and open `http://127.0.0.1:5000`.\n",
    "* **OpenLineage**: Inspect the `lineage.log` file in the project root to see the raw lineage events.\n",
    "* **Logging**: Check the `logs/demo.log` file for the structured JSON logs."
   ]
  }
 ],
 "metadata": {
  "kernelspec": {
   "display_name": "Python 3",
   "language": "python",
   "name": "python3"
  },
  "language_info": {
   "codemirror_mode": {
    "name": "ipython",
    "version": 3
   },
   "file_extension": ".py",
   "mimetype": "text/x-python",
   "name": "python",
   "nbconvert_exporter": "python",
   "pygments_lexer": "ipython3",
   "version": "3.11.0"
  }
 },
 "nbformat": 4,
 "nbformat_minor": 4
}
