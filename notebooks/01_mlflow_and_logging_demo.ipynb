{
 "cells": [
  {
   "cell_type": "markdown",
   "metadata": {},
   "source": [
    "# MLflow and Logging Demo\n",
    "\n",
    "This notebook demonstrates the integrated use of structured logging with `DataLogger` and experiment tracking with `MLflow`."
   ]
  },
  {
   "cell_type": "code",
   "execution_count": null,
   "metadata": {},
   "outputs": [],
   "source": [
    "# Standard library imports\n",
    "import os\n",
    "import sys\n",
    "\n",
    "# Third-party imports\n",
    "import mlflow\n",
    "\n",
    "# Add the src directory to the Python path to import our utils\n",
    "sys.path.append(os.path.abspath(os.path.join('..', 'src')))\n",
    "\n",
    "# Local application imports\n",
    "from utils.logging import DataLogger\n",
    "from utils.mlflow_tracking import get_or_create_experiment"
   ]
  },
  {
   "cell_type": "code",
   "execution_count": null,
   "metadata": {},
   "outputs": [],
   "source": [
    "# 1. Initialize the logger\n",
    "logger = DataLogger(name='demo_notebook', log_file='../logs/notebook_demo.log')\n",
    "logger.log_event('NOTEBOOK_START', {'notebook_name': '01_mlflow_and_logging_demo.ipynb'})"
   ]
  },
  {
   "cell_type": "code",
   "execution_count": null,
   "metadata": {},
   "outputs": [],
   "source": [
    "# 2. Set up the MLflow experiment\n",
    "experiment_name = \"Demo Experiment\"\n",
    "experiment_id = get_or_create_experiment(experiment_name)\n",
    "logger.log_event('MLFLOW_SETUP', {'experiment_name': experiment_name, 'experiment_id': experiment_id})"
   ]
  },
  {
   "cell_type": "code",
   "execution_count": null,
   "metadata": {},
   "outputs": [],
   "source": [
    "# 3. Run a sample MLflow experiment\n",
    "with mlflow.start_run(experiment_id=experiment_id, run_name='demo_run') as run:\n",
    "    run_id = run.info.run_id\n",
    "    logger.log_event('MLFLOW_RUN_START', {'run_id': run_id})\n",
    "\n",
    "    # Log parameters\n",
    "    learning_rate = 0.01\n",
    "    epochs = 10\n",
    "    mlflow.log_param(\"learning_rate\", learning_rate)\n",
    "    mlflow.log_param(\"epochs\", epochs)\n",
    "    logger.log_event('PARAMETERS_LOGGED', {'params': {'learning_rate': learning_rate, 'epochs': epochs}})\n",
    "\n",
    "    # Log metrics\n",
    "    accuracy = 0.98\n",
    "    loss = 0.05\n",
    "    mlflow.log_metric(\"accuracy\", accuracy)\n",
    "    mlflow.log_metric(\"loss\", loss)\n",
    "    logger.log_event('METRICS_LOGGED', {'metrics': {'accuracy': accuracy, 'loss': loss}})\n",
    "\n",
    "    # Log an artifact (e.g., a dummy model file)\n",
    "    model_content = \"This is a dummy model.\"\n",
    "    with open(\"dummy_model.txt\", \"w\") as f:\n",
    "        f.write(model_content)\n",
    "    mlflow.log_artifact(\"dummy_model.txt\")\n",
    "    os.remove(\"dummy_model.txt\")\n",
    "    logger.log_event('ARTIFACT_LOGGED', {'artifact_path': 'dummy_model.txt'})\n",
    "\n",
    "    print(f\"MLflow run '{run_id}' complete.\")\n",
    "    logger.log_event('MLFLOW_RUN_END', {'run_id': run_id})\n"
   ]
  },
  {
   "cell_type": "markdown",
   "metadata": {},
   "source": [
    "### Next Steps\n",
    "\n",
    "To see the results of this run:\n",
    "1. Open your terminal.\n",
    "2. Navigate to the root of this project.\n",
    "3. Run the command: `uv run mlflow ui`\n",
    "4. Open your browser to `http://127.0.0.1:5000` to view the MLflow UI."
   ]
  }
 ],
 "metadata": {
  "kernelspec": {
   "display_name": "Python 3",
   "language": "python",
   "name": "python3"
  },
  "language_info": {
   "codemirror_mode": {
    "name": "ipython",
    "version": 3
   },
   "file_extension": ".py",
   "mimetype": "text/x-python",
   "name": "python",
   "nbconvert_exporter": "python",
   "pygments_lexer": "ipython3",
   "version": "3.11.0"
  }
 },
 "nbformat": 4,
 "nbformat_minor": 4
}
